{
 "cells": [
  {
   "cell_type": "markdown",
   "id": "e0f869ad",
   "metadata": {},
   "source": [
    "### What is a RESTful API?\n",
    "\n",
    "A **RESTful API** (Representational State Transfer) is an architectural style for building web services.  \n",
    "It uses standard HTTP methods (GET, POST, PUT, DELETE) for communication between client and server.  \n",
    "RESTful APIs are stateless, scalable, and resource-oriented, meaning each resource is represented by a unique URL."
   ]
  },
  {
   "cell_type": "code",
   "execution_count": null,
   "id": "e2b33e4b",
   "metadata": {},
   "outputs": [],
   "source": [
    "# Example: RESTful endpoint in Flask\n",
    "from flask import Flask, jsonify\n",
    "app = Flask(__name__)\n",
    "\n",
    "@app.route('/api/hello', methods=['GET'])\n",
    "def hello():\n",
    "    return jsonify(message=\"Hello, this is a RESTful API!\")\n"
   ]
  },
  {
   "cell_type": "markdown",
   "id": "b9f4bd10",
   "metadata": {},
   "source": [
    "### Explain the concept of API specification\n",
    "\n",
    "An **API specification** defines how an API works. It describes endpoints, request/response formats, authentication, and error handling.  \n",
    "Popular formats include **OpenAPI (Swagger)**.  \n",
    "It helps developers understand how to consume or integrate with the API without reading the source code."
   ]
  },
  {
   "cell_type": "code",
   "execution_count": null,
   "id": "c753f52b",
   "metadata": {},
   "outputs": [],
   "source": [
    "# Example: OpenAPI snippet (YAML)\n",
    "openapi: 3.0.0\n",
    "info:\n",
    "  title: Sample API\n",
    "  version: 1.0.0\n",
    "paths:\n",
    "  /api/hello:\n",
    "    get:\n",
    "      summary: Returns a hello message\n",
    "      responses:\n",
    "        '200':\n",
    "          description: Successful response\n"
   ]
  },
  {
   "cell_type": "markdown",
   "id": "b81c9514",
   "metadata": {},
   "source": [
    "### What is Flask, and why is it popular for building APIs?\n",
    "\n",
    "**Flask** is a lightweight Python web framework.  \n",
    "It is popular because:  \n",
    "- Simple and minimalistic  \n",
    "- Flexible and easy to extend  \n",
    "- Built-in development server  \n",
    "- Large ecosystem (Flask-SQLAlchemy, Flask-RESTful, etc.)"
   ]
  },
  {
   "cell_type": "code",
   "execution_count": null,
   "id": "1005f160",
   "metadata": {},
   "outputs": [],
   "source": [
    "from flask import Flask\n",
    "app = Flask(__name__)\n",
    "print(\"Flask app created successfully!\")"
   ]
  },
  {
   "cell_type": "markdown",
   "id": "bb315344",
   "metadata": {},
   "source": [
    "### What is routing in Flask?\n",
    "\n",
    "Routing maps URLs to functions. Each route is defined with **@app.route()**."
   ]
  },
  {
   "cell_type": "code",
   "execution_count": null,
   "id": "d5d6a246",
   "metadata": {},
   "outputs": [],
   "source": [
    "from flask import Flask\n",
    "app = Flask(__name__)\n",
    "\n",
    "@app.route('/')\n",
    "def home():\n",
    "    return \"Welcome to Flask Routing Example\"\n"
   ]
  },
  {
   "cell_type": "markdown",
   "id": "dbe4e5a5",
   "metadata": {},
   "source": [
    "### How do you create a simple Flask application?\n",
    "\n",
    "Steps:  \n",
    "1. Import Flask  \n",
    "2. Create app instance  \n",
    "3. Define routes  \n",
    "4. Run app"
   ]
  },
  {
   "cell_type": "code",
   "execution_count": null,
   "id": "31b80feb",
   "metadata": {},
   "outputs": [],
   "source": [
    "from flask import Flask\n",
    "app = Flask(__name__)\n",
    "\n",
    "@app.route('/')\n",
    "def index():\n",
    "    return \"Hello Flask!\"\n",
    "\n",
    "if __name__ == '__main__':\n",
    "    app.run(debug=True)\n"
   ]
  },
  {
   "cell_type": "markdown",
   "id": "7ea8d012",
   "metadata": {},
   "source": [
    "### What are HTTP methods used in RESTful APIs?\n",
    "\n",
    "- **GET** → Retrieve  \n",
    "- **POST** → Create  \n",
    "- **PUT** → Update  \n",
    "- **DELETE** → Delete  \n",
    "- **PATCH** → Partial update"
   ]
  },
  {
   "cell_type": "code",
   "execution_count": null,
   "id": "1c10cf04",
   "metadata": {},
   "outputs": [],
   "source": [
    "from flask import Flask, request\n",
    "app = Flask(__name__)\n",
    "\n",
    "@app.route('/data', methods=['GET', 'POST'])\n",
    "def data_handler():\n",
    "    if request.method == 'GET':\n",
    "        return \"You sent GET\"\n",
    "    else:\n",
    "        return \"You sent POST\"\n"
   ]
  },
  {
   "cell_type": "markdown",
   "id": "31f09ef0",
   "metadata": {},
   "source": [
    "### What is the purpose of the @app.route() decorator in Flask?\n",
    "\n",
    "It maps a URL to a Python function, making it accessible as an endpoint."
   ]
  },
  {
   "cell_type": "code",
   "execution_count": null,
   "id": "c63d67a3",
   "metadata": {},
   "outputs": [],
   "source": [
    "@app.route('/hello')\n",
    "def hello():\n",
    "    return \"Hello from Flask!\"\n"
   ]
  },
  {
   "cell_type": "markdown",
   "id": "de4f119c",
   "metadata": {},
   "source": [
    "### What is the difference between GET and POST HTTP methods?\n",
    "\n",
    "- **GET**: Retrieves data, parameters in URL, idempotent  \n",
    "- **POST**: Submits data, parameters in request body, not idempotent"
   ]
  },
  {
   "cell_type": "code",
   "execution_count": null,
   "id": "948c09fc",
   "metadata": {},
   "outputs": [],
   "source": [
    "@app.route('/form', methods=['GET', 'POST'])\n",
    "def form_example():\n",
    "    if request.method == 'GET':\n",
    "        return \"GET request\"\n",
    "    else:\n",
    "        return \"POST request with data\"\n"
   ]
  },
  {
   "cell_type": "markdown",
   "id": "07a8ad5d",
   "metadata": {},
   "source": [
    "### How do you handle errors in Flask APIs?\n",
    "\n",
    "Use **errorhandler decorators** or **abort()** function."
   ]
  },
  {
   "cell_type": "code",
   "execution_count": null,
   "id": "3b388397",
   "metadata": {},
   "outputs": [],
   "source": [
    "from flask import abort\n",
    "\n",
    "@app.route('/error')\n",
    "def cause_error():\n",
    "    abort(404)\n",
    "\n",
    "@app.errorhandler(404)\n",
    "def not_found(e):\n",
    "    return {\"error\": \"Resource not found\"}, 404\n"
   ]
  },
  {
   "cell_type": "markdown",
   "id": "a2c2587b",
   "metadata": {},
   "source": [
    "### How do you connect Flask to a SQL database?\n",
    "\n",
    "Use **Flask-SQLAlchemy** for ORM-based database access."
   ]
  },
  {
   "cell_type": "code",
   "execution_count": null,
   "id": "22921461",
   "metadata": {},
   "outputs": [],
   "source": [
    "from flask_sqlalchemy import SQLAlchemy\n",
    "\n",
    "app.config['SQLALCHEMY_DATABASE_URI'] = 'sqlite:///test.db'\n",
    "db = SQLAlchemy(app)\n",
    "\n",
    "class User(db.Model):\n",
    "    id = db.Column(db.Integer, primary_key=True)\n",
    "    name = db.Column(db.String(80), nullable=False)\n"
   ]
  },
  {
   "cell_type": "markdown",
   "id": "1f43f698",
   "metadata": {},
   "source": [
    "### What is the role of Flask-SQLAlchemy?\n",
    "\n",
    "It integrates SQLAlchemy ORM with Flask for database operations."
   ]
  },
  {
   "cell_type": "code",
   "execution_count": null,
   "id": "d528cd9e",
   "metadata": {},
   "outputs": [],
   "source": [
    "# Already shown in previous example\n",
    "db.create_all()  # creates tables\n"
   ]
  },
  {
   "cell_type": "markdown",
   "id": "8134fdd0",
   "metadata": {},
   "source": [
    "### What are Flask blueprints, and how are they useful?\n",
    "\n",
    "Blueprints allow modular organization of Flask apps.  \n",
    "Each blueprint can represent a module or feature."
   ]
  },
  {
   "cell_type": "code",
   "execution_count": null,
   "id": "442297ac",
   "metadata": {},
   "outputs": [],
   "source": [
    "from flask import Blueprint\n",
    "\n",
    "bp = Blueprint('bp', __name__)\n",
    "\n",
    "@bp.route('/bp_hello')\n",
    "def bp_hello():\n",
    "    return \"Hello from Blueprint!\"\n",
    "\n",
    "app.register_blueprint(bp)\n"
   ]
  },
  {
   "cell_type": "markdown",
   "id": "167bcb85",
   "metadata": {},
   "source": [
    "### What is the purpose of Flask's request object?\n",
    "\n",
    "It stores HTTP request data (headers, query params, form data, JSON)."
   ]
  },
  {
   "cell_type": "code",
   "execution_count": null,
   "id": "6a309fa3",
   "metadata": {},
   "outputs": [],
   "source": [
    "from flask import request\n",
    "\n",
    "@app.route('/req', methods=['POST'])\n",
    "def req_example():\n",
    "    data = request.json\n",
    "    return {\"you_sent\": data}\n"
   ]
  },
  {
   "cell_type": "markdown",
   "id": "f03d5715",
   "metadata": {},
   "source": [
    "### How do you create a RESTful API endpoint using Flask?\n",
    "\n",
    "Use **@app.route()** with HTTP methods and return JSON."
   ]
  },
  {
   "cell_type": "code",
   "execution_count": null,
   "id": "a4e0fd45",
   "metadata": {},
   "outputs": [],
   "source": [
    "@app.route('/api/user/<int:id>', methods=['GET'])\n",
    "def get_user(id):\n",
    "    return {\"user_id\": id, \"name\": \"John Doe\"}\n"
   ]
  },
  {
   "cell_type": "markdown",
   "id": "597a59a6",
   "metadata": {},
   "source": [
    "### What is the purpose of Flask's jsonify() function?\n",
    "\n",
    "It converts Python dictionaries/lists into JSON responses."
   ]
  },
  {
   "cell_type": "code",
   "execution_count": null,
   "id": "81439d2c",
   "metadata": {},
   "outputs": [],
   "source": [
    "from flask import jsonify\n",
    "\n",
    "@app.route('/json')\n",
    "def json_example():\n",
    "    return jsonify(status=\"success\", data=[1,2,3])\n"
   ]
  },
  {
   "cell_type": "markdown",
   "id": "0af6af50",
   "metadata": {},
   "source": [
    "### Explain Flask’s url_for() function\n",
    "\n",
    "**url_for()** dynamically generates URLs for routes by function name.  \n",
    "Helps avoid hardcoding URLs."
   ]
  },
  {
   "cell_type": "code",
   "execution_count": null,
   "id": "0123fda8",
   "metadata": {},
   "outputs": [],
   "source": [
    "from flask import url_for\n",
    "\n",
    "with app.test_request_context():\n",
    "    print(url_for('index'))  # Outputs \"/\"\n"
   ]
  },
  {
   "cell_type": "markdown",
   "id": "3573019b",
   "metadata": {},
   "source": [
    "### How does Flask handle static files (CSS, JavaScript, etc.)?\n",
    "\n",
    "Static files are served from the **/static/** folder by default."
   ]
  },
  {
   "cell_type": "code",
   "execution_count": null,
   "id": "cb06a166",
   "metadata": {},
   "outputs": [],
   "source": [
    "# Example: Place 'style.css' in static/ folder\n",
    "# Access it via http://127.0.0.1:5000/static/style.css\n"
   ]
  },
  {
   "cell_type": "markdown",
   "id": "40d1f05f",
   "metadata": {},
   "source": [
    "### What is an API specification, and how does it help in building a Flask API?\n",
    "\n",
    "Defines the structure and behavior of an API.  \n",
    "Helps in collaboration, documentation, and validation."
   ]
  },
  {
   "cell_type": "code",
   "execution_count": null,
   "id": "98ce3b64",
   "metadata": {},
   "outputs": [],
   "source": [
    "# Example already shown with OpenAPI YAML\n"
   ]
  },
  {
   "cell_type": "markdown",
   "id": "2e590346",
   "metadata": {},
   "source": [
    "### What are HTTP status codes, and why are they important in a Flask API?\n",
    "\n",
    "They indicate request outcomes (e.g., 200 OK, 404 Not Found, 500 Server Error).  \n",
    "They help clients handle responses correctly."
   ]
  },
  {
   "cell_type": "code",
   "execution_count": null,
   "id": "bc3882e6",
   "metadata": {},
   "outputs": [],
   "source": [
    "@app.route('/status')\n",
    "def status_example():\n",
    "    return {\"msg\": \"Not Found\"}, 404\n"
   ]
  },
  {
   "cell_type": "markdown",
   "id": "9a5ebf30",
   "metadata": {},
   "source": [
    "### How do you handle POST requests in Flask?\n",
    "\n",
    "Use **request.form** or **request.json** to access POSTed data."
   ]
  },
  {
   "cell_type": "code",
   "execution_count": null,
   "id": "b8a82246",
   "metadata": {},
   "outputs": [],
   "source": [
    "@app.route('/submit', methods=['POST'])\n",
    "def submit():\n",
    "    data = request.json\n",
    "    return {\"received\": data}\n"
   ]
  },
  {
   "cell_type": "markdown",
   "id": "65e72ac3",
   "metadata": {},
   "source": [
    "### How would you secure a Flask API?\n",
    "\n",
    "- Use HTTPS  \n",
    "- Authentication (JWT, OAuth)  \n",
    "- Validate input  \n",
    "- Handle errors safely  \n",
    "- Rate limiting"
   ]
  },
  {
   "cell_type": "code",
   "execution_count": null,
   "id": "cd2fc406",
   "metadata": {},
   "outputs": [],
   "source": [
    "# Example: Simple API key check\n",
    "@app.before_request\n",
    "def check_api_key():\n",
    "    if request.headers.get(\"API-Key\") != \"secret\":\n",
    "        return {\"error\": \"Unauthorized\"}, 401\n"
   ]
  },
  {
   "cell_type": "markdown",
   "id": "a5fcd9ef",
   "metadata": {},
   "source": [
    "### What is the significance of the Flask-RESTful extension?\n",
    "\n",
    "It simplifies REST API building by providing Resource classes and request parsing."
   ]
  },
  {
   "cell_type": "code",
   "execution_count": null,
   "id": "48a0d700",
   "metadata": {},
   "outputs": [],
   "source": [
    "from flask_restful import Resource, Api\n",
    "api = Api(app)\n",
    "\n",
    "class HelloResource(Resource):\n",
    "    def get(self):\n",
    "        return {\"message\": \"Hello RESTful\"}\n",
    "\n",
    "api.add_resource(HelloResource, '/api_restful')\n"
   ]
  },
  {
   "cell_type": "markdown",
   "id": "f74cbe75",
   "metadata": {},
   "source": [
    "### What is the role of Flask’s session object?\n",
    "\n",
    "It stores user-specific data between requests using cookies (signed)."
   ]
  },
  {
   "cell_type": "code",
   "execution_count": null,
   "id": "32de5b7e",
   "metadata": {},
   "outputs": [],
   "source": [
    "from flask import session\n",
    "\n",
    "app.secret_key = 'secret'\n",
    "\n",
    "@app.route('/set_session')\n",
    "def set_session():\n",
    "    session['user'] = 'Alice'\n",
    "    return \"Session set\"\n",
    "\n",
    "@app.route('/get_session')\n",
    "def get_session():\n",
    "    return session.get('user', 'Guest')\n"
   ]
  },
  {
   "cell_type": "markdown",
   "id": "974aa22b",
   "metadata": {},
   "source": [
    "### How do you serve static files like images or CSS in Flask?\n",
    "\n",
    "Use the **/static/** folder. Access via `/static/filename`."
   ]
  },
  {
   "cell_type": "code",
   "execution_count": null,
   "id": "92c63474",
   "metadata": {},
   "outputs": [],
   "source": [
    "# Example: <img src='/static/logo.png'>\n"
   ]
  },
  {
   "cell_type": "markdown",
   "id": "2606aab2",
   "metadata": {},
   "source": [
    "### How do you define different routes with different HTTP methods in Flask?\n",
    "\n",
    "Pass `methods` list to @app.route()."
   ]
  },
  {
   "cell_type": "code",
   "execution_count": null,
   "id": "47915ab4",
   "metadata": {},
   "outputs": [],
   "source": [
    "@app.route('/multi', methods=['GET', 'POST'])\n",
    "def multi():\n",
    "    return f\"You used {request.method}\"\n"
   ]
  },
  {
   "cell_type": "markdown",
   "id": "36d51474",
   "metadata": {},
   "source": [
    "### How do you render HTML templates in Flask?\n",
    "\n",
    "Use **render_template()** with Jinja2 templates in the `templates/` folder."
   ]
  },
  {
   "cell_type": "code",
   "execution_count": null,
   "id": "b4de895e",
   "metadata": {},
   "outputs": [],
   "source": [
    "from flask import render_template\n",
    "\n",
    "@app.route('/html')\n",
    "def html():\n",
    "    return render_template('index.html', title='Flask Example')\n"
   ]
  },
  {
   "cell_type": "markdown",
   "id": "300d761d",
   "metadata": {},
   "source": [
    "### How can you generate URLs for routes in Flask using url_for?\n",
    "\n",
    "Use **url_for()** with function name."
   ]
  },
  {
   "cell_type": "code",
   "execution_count": null,
   "id": "88d5a3c6",
   "metadata": {},
   "outputs": [],
   "source": [
    "# Example shown earlier\n"
   ]
  },
  {
   "cell_type": "markdown",
   "id": "1ed7cb1b",
   "metadata": {},
   "source": [
    "### How do you handle forms in Flask?\n",
    "\n",
    "Use **request.form** for POSTed form data."
   ]
  },
  {
   "cell_type": "code",
   "execution_count": null,
   "id": "f947452d",
   "metadata": {},
   "outputs": [],
   "source": [
    "@app.route('/form_submit', methods=['POST'])\n",
    "def form_submit():\n",
    "    name = request.form['name']\n",
    "    return f\"Hello {name}\"\n"
   ]
  },
  {
   "cell_type": "markdown",
   "id": "7b511d14",
   "metadata": {},
   "source": [
    "### How can you validate form data in Flask?\n",
    "\n",
    "Manually check fields or use **WTForms/Flask-WTF**."
   ]
  },
  {
   "cell_type": "code",
   "execution_count": null,
   "id": "c989be35",
   "metadata": {},
   "outputs": [],
   "source": [
    "from wtforms import Form, StringField, validators\n",
    "\n",
    "class MyForm(Form):\n",
    "    name = StringField('Name', [validators.InputRequired()])\n"
   ]
  },
  {
   "cell_type": "markdown",
   "id": "cf7cceba",
   "metadata": {},
   "source": [
    "### How do you manage sessions in Flask?\n",
    "\n",
    "Use the `session` object."
   ]
  },
  {
   "cell_type": "code",
   "execution_count": null,
   "id": "0624b442",
   "metadata": {},
   "outputs": [],
   "source": [
    "# Example shown earlier\n"
   ]
  },
  {
   "cell_type": "markdown",
   "id": "2a51d51c",
   "metadata": {},
   "source": [
    "### How do you redirect to a different route in Flask?\n",
    "\n",
    "Use **redirect()** and **url_for()**."
   ]
  },
  {
   "cell_type": "code",
   "execution_count": null,
   "id": "43024e47",
   "metadata": {},
   "outputs": [],
   "source": [
    "from flask import redirect\n",
    "\n",
    "@app.route('/go_home')\n",
    "def go_home():\n",
    "    return redirect(url_for('index'))\n"
   ]
  },
  {
   "cell_type": "markdown",
   "id": "265bcfd9",
   "metadata": {},
   "source": [
    "### How do you handle errors in Flask (e.g., 404)?\n",
    "\n",
    "Use **errorhandler decorators**."
   ]
  },
  {
   "cell_type": "code",
   "execution_count": null,
   "id": "3db7bb28",
   "metadata": {},
   "outputs": [],
   "source": [
    "@app.errorhandler(404)\n",
    "def page_not_found(e):\n",
    "    return \"Custom 404 Page\", 404\n"
   ]
  },
  {
   "cell_type": "markdown",
   "id": "8a517860",
   "metadata": {},
   "source": [
    "### How do you structure a Flask app using Blueprints?\n",
    "\n",
    "Organize routes in modules using Blueprints."
   ]
  },
  {
   "cell_type": "code",
   "execution_count": null,
   "id": "90e59b79",
   "metadata": {},
   "outputs": [],
   "source": [
    "# Example already shown earlier\n"
   ]
  },
  {
   "cell_type": "markdown",
   "id": "8ed5c825",
   "metadata": {},
   "source": [
    "### How do you define a custom Jinja filter in Flask?\n",
    "\n",
    "Use **app.template_filter()**."
   ]
  },
  {
   "cell_type": "code",
   "execution_count": null,
   "id": "4f0d7818",
   "metadata": {},
   "outputs": [],
   "source": [
    "@app.template_filter('reverse')\n",
    "def reverse_filter(s):\n",
    "    return s[::-1]\n"
   ]
  },
  {
   "cell_type": "markdown",
   "id": "6c721332",
   "metadata": {},
   "source": [
    "### How can you redirect with query parameters in Flask?\n",
    "\n",
    "Pass params in **url_for()**."
   ]
  },
  {
   "cell_type": "code",
   "execution_count": null,
   "id": "c0f6d900",
   "metadata": {},
   "outputs": [],
   "source": [
    "@app.route('/redir')\n",
    "def redir():\n",
    "    return redirect(url_for('index', msg='hello'))\n"
   ]
  },
  {
   "cell_type": "markdown",
   "id": "39102253",
   "metadata": {},
   "source": [
    "### How do you return JSON responses in Flask?\n",
    "\n",
    "Use **jsonify()**."
   ]
  },
  {
   "cell_type": "code",
   "execution_count": null,
   "id": "eac2611a",
   "metadata": {},
   "outputs": [],
   "source": [
    "# Example shown earlier\n"
   ]
  },
  {
   "cell_type": "markdown",
   "id": "723c45dc",
   "metadata": {},
   "source": [
    "### How do you capture URL parameters in Flask?\n",
    "\n",
    "Use `<type:var>` in routes."
   ]
  },
  {
   "cell_type": "code",
   "execution_count": null,
   "id": "ea658941",
   "metadata": {},
   "outputs": [],
   "source": [
    "@app.route('/user/<int:id>')\n",
    "def user_profile(id):\n",
    "    return f\"User ID: {id}\"\n"
   ]
  }
 ],
 "metadata": {},
 "nbformat": 4,
 "nbformat_minor": 5
}